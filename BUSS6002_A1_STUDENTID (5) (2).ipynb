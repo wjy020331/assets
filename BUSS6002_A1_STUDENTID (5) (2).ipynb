{
    "metadata": {
        "kernelspec": {
            "name": "python3",
            "display_name": "Python 3 (ipykernel)",
            "language": "python"
        }
    },
    "nbformat": 4,
    "nbformat_minor": 5,
    "cells": [
        {
            "cell_type": "code",
            "execution_count": 1,
            "metadata": {},
            "outputs": [],
            "source": [
                "import numpy as np\n",
                "import matplotlib.pyplot as plt\n",
                "import pandas as pd\n",
                "\n",
                "import warnings\n",
                "warnings.filterwarnings(\"ignore\") "
            ]
        },
        {
            "cell_type": "code",
            "execution_count": 2,
            "metadata": {},
            "outputs": [
                {
                    "data": {
                        "text/html": "\u003cdiv\u003e\n\u003cstyle scoped\u003e\n    .dataframe tbody tr th:only-of-type {\n        vertical-align: middle;\n    }\n\n    .dataframe tbody tr th {\n        vertical-align: top;\n    }\n\n    .dataframe thead th {\n        text-align: right;\n    }\n\u003c/style\u003e\n\u003ctable border=\"1\" class=\"dataframe\"\u003e\n  \u003cthead\u003e\n    \u003ctr style=\"text-align: right;\"\u003e\n      \u003cth\u003e\u003c/th\u003e\n      \u003cth\u003eHousehold_ID\u003c/th\u003e\n      \u003cth\u003eCity\u003c/th\u003e\n      \u003cth\u003eLatitude\u003c/th\u003e\n      \u003cth\u003eHouse_Type\u003c/th\u003e\n      \u003cth\u003eRoof_Type\u003c/th\u003e\n      \u003cth\u003eRoof_Pitch\u003c/th\u003e\n      \u003cth\u003eRoof_Azimuth\u003c/th\u003e\n      \u003cth\u003eFloors\u003c/th\u003e\n      \u003cth\u003eFinanced\u003c/th\u003e\n      \u003cth\u003eYear\u003c/th\u003e\n      \u003cth\u003ePanel_Capacity\u003c/th\u003e\n      \u003cth\u003eShading\u003c/th\u003e\n      \u003cth\u003eGeneration\u003c/th\u003e\n    \u003c/tr\u003e\n  \u003c/thead\u003e\n  \u003ctbody\u003e\n    \u003ctr\u003e\n      \u003cth\u003e0\u003c/th\u003e\n      \u003ctd\u003eA553C5784D\u003c/td\u003e\n      \u003ctd\u003eBrisbane\u003c/td\u003e\n      \u003ctd\u003eNaN\u003c/td\u003e\n      \u003ctd\u003eNaN\u003c/td\u003e\n      \u003ctd\u003eSteel\u003c/td\u003e\n      \u003ctd\u003e10.0\u003c/td\u003e\n      \u003ctd\u003e21.0\u003c/td\u003e\n      \u003ctd\u003eDouble\u003c/td\u003e\n      \u003ctd\u003eNo\u003c/td\u003e\n      \u003ctd\u003e2019\u003c/td\u003e\n      \u003ctd\u003e5040\u003c/td\u003e\n      \u003ctd\u003eNone\u003c/td\u003e\n      \u003ctd\u003e10163.796\u003c/td\u003e\n    \u003c/tr\u003e\n    \u003ctr\u003e\n      \u003cth\u003e1\u003c/th\u003e\n      \u003ctd\u003e1A12B988A0\u003c/td\u003e\n      \u003ctd\u003eBrisbane\u003c/td\u003e\n      \u003ctd\u003e-27.217398\u003c/td\u003e\n      \u003ctd\u003eTimber Frame\u003c/td\u003e\n      \u003ctd\u003eTile\u003c/td\u003e\n      \u003ctd\u003e35.0\u003c/td\u003e\n      \u003ctd\u003e50.0\u003c/td\u003e\n      \u003ctd\u003eSingle\u003c/td\u003e\n      \u003ctd\u003eYes\u003c/td\u003e\n      \u003ctd\u003e2011\u003c/td\u003e\n      \u003ctd\u003e5880\u003c/td\u003e\n      \u003ctd\u003eNaN\u003c/td\u003e\n      \u003ctd\u003e10876.910\u003c/td\u003e\n    \u003c/tr\u003e\n    \u003ctr\u003e\n      \u003cth\u003e2\u003c/th\u003e\n      \u003ctd\u003eD23C0BBB05\u003c/td\u003e\n      \u003ctd\u003eBrisbane\u003c/td\u003e\n      \u003ctd\u003e-27.252449\u003c/td\u003e\n      \u003ctd\u003eDouble Brick\u003c/td\u003e\n      \u003ctd\u003eNaN\u003c/td\u003e\n      \u003ctd\u003e20.0\u003c/td\u003e\n      \u003ctd\u003e272.0\u003c/td\u003e\n      \u003ctd\u003eSingle\u003c/td\u003e\n      \u003ctd\u003eYes\u003c/td\u003e\n      \u003ctd\u003e2018\u003c/td\u003e\n      \u003ctd\u003e5040\u003c/td\u003e\n      \u003ctd\u003eNaN\u003c/td\u003e\n      \u003ctd\u003e9400.415\u003c/td\u003e\n    \u003c/tr\u003e\n    \u003ctr\u003e\n      \u003cth\u003e3\u003c/th\u003e\n      \u003ctd\u003eE67A638AD3\u003c/td\u003e\n      \u003ctd\u003eBrisbane\u003c/td\u003e\n      \u003ctd\u003e-27.042364\u003c/td\u003e\n      \u003ctd\u003eTimber Frame\u003c/td\u003e\n      \u003ctd\u003eSteel\u003c/td\u003e\n      \u003ctd\u003e35.0\u003c/td\u003e\n      \u003ctd\u003e247.0\u003c/td\u003e\n      \u003ctd\u003eNaN\u003c/td\u003e\n      \u003ctd\u003eYes\u003c/td\u003e\n      \u003ctd\u003e2012\u003c/td\u003e\n      \u003ctd\u003e5040\u003c/td\u003e\n      \u003ctd\u003eNone\u003c/td\u003e\n      \u003ctd\u003e7747.349\u003c/td\u003e\n    \u003c/tr\u003e\n    \u003ctr\u003e\n      \u003cth\u003e4\u003c/th\u003e\n      \u003ctd\u003e7F266FCAD1\u003c/td\u003e\n      \u003ctd\u003eBrisbane\u003c/td\u003e\n      \u003ctd\u003e-27.432734\u003c/td\u003e\n      \u003ctd\u003eOther\u003c/td\u003e\n      \u003ctd\u003eSteel\u003c/td\u003e\n      \u003ctd\u003e10.0\u003c/td\u003e\n      \u003ctd\u003e39.0\u003c/td\u003e\n      \u003ctd\u003eDouble\u003c/td\u003e\n      \u003ctd\u003eYes\u003c/td\u003e\n      \u003ctd\u003e2012\u003c/td\u003e\n      \u003ctd\u003e5880\u003c/td\u003e\n      \u003ctd\u003eNone\u003c/td\u003e\n      \u003ctd\u003e10987.674\u003c/td\u003e\n    \u003c/tr\u003e\n  \u003c/tbody\u003e\n\u003c/table\u003e\n\u003c/div\u003e",
                        "text/plain": "  Household_ID      City   Latitude    House_Type Roof_Type  Roof_Pitch  \\\n0   A553C5784D  Brisbane        NaN           NaN     Steel        10.0   \n1   1A12B988A0  Brisbane -27.217398  Timber Frame      Tile        35.0   \n2   D23C0BBB05  Brisbane -27.252449  Double Brick       NaN        20.0   \n3   E67A638AD3  Brisbane -27.042364  Timber Frame     Steel        35.0   \n4   7F266FCAD1  Brisbane -27.432734         Other     Steel        10.0   \n\n   Roof_Azimuth  Floors Financed  Year  Panel_Capacity Shading  Generation  \n0          21.0  Double       No  2019            5040    None   10163.796  \n1          50.0  Single      Yes  2011            5880     NaN   10876.910  \n2         272.0  Single      Yes  2018            5040     NaN    9400.415  \n3         247.0     NaN      Yes  2012            5040    None    7747.349  \n4          39.0  Double      Yes  2012            5880    None   10987.674  "
                    },
                    "execution_count": 2,
                    "metadata": {},
                    "output_type": "execute_result"
                }
            ],
            "source": [
                "# Read the data file\n",
                "\n",
                "SolarSurvey = pd.read_csv('SolarSurvey.csv')\n",
                "SolarSurvey.head()"
            ]
        },
        {
            "cell_type": "code",
            "execution_count": 3,
            "metadata": {},
            "outputs": [
                {
                    "data": {
                        "text/html": "\u003cdiv\u003e\n\u003cstyle scoped\u003e\n    .dataframe tbody tr th:only-of-type {\n        vertical-align: middle;\n    }\n\n    .dataframe tbody tr th {\n        vertical-align: top;\n    }\n\n    .dataframe thead th {\n        text-align: right;\n    }\n\u003c/style\u003e\n\u003ctable border=\"1\" class=\"dataframe\"\u003e\n  \u003cthead\u003e\n    \u003ctr style=\"text-align: right;\"\u003e\n      \u003cth\u003e\u003c/th\u003e\n      \u003cth\u003eHousehold_ID\u003c/th\u003e\n      \u003cth\u003eCity\u003c/th\u003e\n      \u003cth\u003eLatitude\u003c/th\u003e\n      \u003cth\u003eHouse_Type\u003c/th\u003e\n      \u003cth\u003eRoof_Type\u003c/th\u003e\n      \u003cth\u003eRoof_Pitch\u003c/th\u003e\n      \u003cth\u003eRoof_Azimuth\u003c/th\u003e\n      \u003cth\u003eFloors\u003c/th\u003e\n      \u003cth\u003eFinanced\u003c/th\u003e\n      \u003cth\u003eYear\u003c/th\u003e\n      \u003cth\u003ePanel_Capacity\u003c/th\u003e\n      \u003cth\u003eShading\u003c/th\u003e\n      \u003cth\u003eGeneration\u003c/th\u003e\n    \u003c/tr\u003e\n  \u003c/thead\u003e\n  \u003ctbody\u003e\n    \u003ctr\u003e\n      \u003cth\u003e0\u003c/th\u003e\n      \u003ctd\u003eA553C5784D\u003c/td\u003e\n      \u003ctd\u003eBrisbane\u003c/td\u003e\n      \u003ctd\u003eNaN\u003c/td\u003e\n      \u003ctd\u003eNaN\u003c/td\u003e\n      \u003ctd\u003eSteel\u003c/td\u003e\n      \u003ctd\u003e10.0\u003c/td\u003e\n      \u003ctd\u003e21.0\u003c/td\u003e\n      \u003ctd\u003eDouble\u003c/td\u003e\n      \u003ctd\u003eNo\u003c/td\u003e\n      \u003ctd\u003e2019\u003c/td\u003e\n      \u003ctd\u003e5040\u003c/td\u003e\n      \u003ctd\u003eNone\u003c/td\u003e\n      \u003ctd\u003e10163.796\u003c/td\u003e\n    \u003c/tr\u003e\n    \u003ctr\u003e\n      \u003cth\u003e1\u003c/th\u003e\n      \u003ctd\u003e1A12B988A0\u003c/td\u003e\n      \u003ctd\u003eBrisbane\u003c/td\u003e\n      \u003ctd\u003e-27.217398\u003c/td\u003e\n      \u003ctd\u003eTimber Frame\u003c/td\u003e\n      \u003ctd\u003eTile\u003c/td\u003e\n      \u003ctd\u003e35.0\u003c/td\u003e\n      \u003ctd\u003e50.0\u003c/td\u003e\n      \u003ctd\u003eSingle\u003c/td\u003e\n      \u003ctd\u003eYes\u003c/td\u003e\n      \u003ctd\u003e2011\u003c/td\u003e\n      \u003ctd\u003e5880\u003c/td\u003e\n      \u003ctd\u003eNaN\u003c/td\u003e\n      \u003ctd\u003e10876.910\u003c/td\u003e\n    \u003c/tr\u003e\n    \u003ctr\u003e\n      \u003cth\u003e2\u003c/th\u003e\n      \u003ctd\u003eD23C0BBB05\u003c/td\u003e\n      \u003ctd\u003eBrisbane\u003c/td\u003e\n      \u003ctd\u003e-27.252449\u003c/td\u003e\n      \u003ctd\u003eDouble Brick\u003c/td\u003e\n      \u003ctd\u003eNaN\u003c/td\u003e\n      \u003ctd\u003e20.0\u003c/td\u003e\n      \u003ctd\u003e272.0\u003c/td\u003e\n      \u003ctd\u003eSingle\u003c/td\u003e\n      \u003ctd\u003eYes\u003c/td\u003e\n      \u003ctd\u003e2018\u003c/td\u003e\n      \u003ctd\u003e5040\u003c/td\u003e\n      \u003ctd\u003eNaN\u003c/td\u003e\n      \u003ctd\u003e9400.415\u003c/td\u003e\n    \u003c/tr\u003e\n    \u003ctr\u003e\n      \u003cth\u003e3\u003c/th\u003e\n      \u003ctd\u003eE67A638AD3\u003c/td\u003e\n      \u003ctd\u003eBrisbane\u003c/td\u003e\n      \u003ctd\u003e-27.042364\u003c/td\u003e\n      \u003ctd\u003eTimber Frame\u003c/td\u003e\n      \u003ctd\u003eSteel\u003c/td\u003e\n      \u003ctd\u003e35.0\u003c/td\u003e\n      \u003ctd\u003e247.0\u003c/td\u003e\n      \u003ctd\u003eNaN\u003c/td\u003e\n      \u003ctd\u003eYes\u003c/td\u003e\n      \u003ctd\u003e2012\u003c/td\u003e\n      \u003ctd\u003e5040\u003c/td\u003e\n      \u003ctd\u003eNone\u003c/td\u003e\n      \u003ctd\u003e7747.349\u003c/td\u003e\n    \u003c/tr\u003e\n    \u003ctr\u003e\n      \u003cth\u003e4\u003c/th\u003e\n      \u003ctd\u003e7F266FCAD1\u003c/td\u003e\n      \u003ctd\u003eBrisbane\u003c/td\u003e\n      \u003ctd\u003e-27.432734\u003c/td\u003e\n      \u003ctd\u003eOther\u003c/td\u003e\n      \u003ctd\u003eSteel\u003c/td\u003e\n      \u003ctd\u003e10.0\u003c/td\u003e\n      \u003ctd\u003e39.0\u003c/td\u003e\n      \u003ctd\u003eDouble\u003c/td\u003e\n      \u003ctd\u003eYes\u003c/td\u003e\n      \u003ctd\u003e2012\u003c/td\u003e\n      \u003ctd\u003e5880\u003c/td\u003e\n      \u003ctd\u003eNone\u003c/td\u003e\n      \u003ctd\u003e10987.674\u003c/td\u003e\n    \u003c/tr\u003e\n    \u003ctr\u003e\n      \u003cth\u003e...\u003c/th\u003e\n      \u003ctd\u003e...\u003c/td\u003e\n      \u003ctd\u003e...\u003c/td\u003e\n      \u003ctd\u003e...\u003c/td\u003e\n      \u003ctd\u003e...\u003c/td\u003e\n      \u003ctd\u003e...\u003c/td\u003e\n      \u003ctd\u003e...\u003c/td\u003e\n      \u003ctd\u003e...\u003c/td\u003e\n      \u003ctd\u003e...\u003c/td\u003e\n      \u003ctd\u003e...\u003c/td\u003e\n      \u003ctd\u003e...\u003c/td\u003e\n      \u003ctd\u003e...\u003c/td\u003e\n      \u003ctd\u003e...\u003c/td\u003e\n      \u003ctd\u003e...\u003c/td\u003e\n    \u003c/tr\u003e\n    \u003ctr\u003e\n      \u003cth\u003e2995\u003c/th\u003e\n      \u003ctd\u003e3C1434F399\u003c/td\u003e\n      \u003ctd\u003eMelbourne\u003c/td\u003e\n      \u003ctd\u003e-37.741982\u003c/td\u003e\n      \u003ctd\u003eOther\u003c/td\u003e\n      \u003ctd\u003eTile\u003c/td\u003e\n      \u003ctd\u003e30.0\u003c/td\u003e\n      \u003ctd\u003e132.0\u003c/td\u003e\n      \u003ctd\u003eSingle\u003c/td\u003e\n      \u003ctd\u003eYes\u003c/td\u003e\n      \u003ctd\u003e2011\u003c/td\u003e\n      \u003ctd\u003e7560\u003c/td\u003e\n      \u003ctd\u003eSignificant\u003c/td\u003e\n      \u003ctd\u003e4252.178\u003c/td\u003e\n    \u003c/tr\u003e\n    \u003ctr\u003e\n      \u003cth\u003e2996\u003c/th\u003e\n      \u003ctd\u003eBAC8883CA0\u003c/td\u003e\n      \u003ctd\u003eMelbourne\u003c/td\u003e\n      \u003ctd\u003e-38.008012\u003c/td\u003e\n      \u003ctd\u003eOther\u003c/td\u003e\n      \u003ctd\u003eTile\u003c/td\u003e\n      \u003ctd\u003e10.0\u003c/td\u003e\n      \u003ctd\u003e57.0\u003c/td\u003e\n      \u003ctd\u003eDouble\u003c/td\u003e\n      \u003ctd\u003eYes\u003c/td\u003e\n      \u003ctd\u003e2020\u003c/td\u003e\n      \u003ctd\u003e7140\u003c/td\u003e\n      \u003ctd\u003eSignificant\u003c/td\u003e\n      \u003ctd\u003e5684.912\u003c/td\u003e\n    \u003c/tr\u003e\n    \u003ctr\u003e\n      \u003cth\u003e2997\u003c/th\u003e\n      \u003ctd\u003e9192858124\u003c/td\u003e\n      \u003ctd\u003eMelbourne\u003c/td\u003e\n      \u003ctd\u003e-38.342210\u003c/td\u003e\n      \u003ctd\u003eTimber Frame\u003c/td\u003e\n      \u003ctd\u003eTile\u003c/td\u003e\n      \u003ctd\u003e22.5\u003c/td\u003e\n      \u003ctd\u003e352.0\u003c/td\u003e\n      \u003ctd\u003eSingle\u003c/td\u003e\n      \u003ctd\u003eYes\u003c/td\u003e\n      \u003ctd\u003e2017\u003c/td\u003e\n      \u003ctd\u003e7140\u003c/td\u003e\n      \u003ctd\u003eNone\u003c/td\u003e\n      \u003ctd\u003e12026.470\u003c/td\u003e\n    \u003c/tr\u003e\n    \u003ctr\u003e\n      \u003cth\u003e2998\u003c/th\u003e\n      \u003ctd\u003eC2186B8C95\u003c/td\u003e\n      \u003ctd\u003eMelbourne\u003c/td\u003e\n      \u003ctd\u003e-37.579522\u003c/td\u003e\n      \u003ctd\u003eTimber Frame\u003c/td\u003e\n      \u003ctd\u003eTile\u003c/td\u003e\n      \u003ctd\u003e5.0\u003c/td\u003e\n      \u003ctd\u003e115.0\u003c/td\u003e\n      \u003ctd\u003eSingle\u003c/td\u003e\n      \u003ctd\u003eNo\u003c/td\u003e\n      \u003ctd\u003e2014\u003c/td\u003e\n      \u003ctd\u003e6300\u003c/td\u003e\n      \u003ctd\u003eNone\u003c/td\u003e\n      \u003ctd\u003e8902.884\u003c/td\u003e\n    \u003c/tr\u003e\n    \u003ctr\u003e\n      \u003cth\u003e2999\u003c/th\u003e\n      \u003ctd\u003e396D8F6DD2\u003c/td\u003e\n      \u003ctd\u003eMelbourne\u003c/td\u003e\n      \u003ctd\u003e-38.389214\u003c/td\u003e\n      \u003ctd\u003eTimber Frame\u003c/td\u003e\n      \u003ctd\u003eSteel\u003c/td\u003e\n      \u003ctd\u003e25.0\u003c/td\u003e\n      \u003ctd\u003e320.0\u003c/td\u003e\n      \u003ctd\u003eDouble\u003c/td\u003e\n      \u003ctd\u003eYes\u003c/td\u003e\n      \u003ctd\u003e2021\u003c/td\u003e\n      \u003ctd\u003e7560\u003c/td\u003e\n      \u003ctd\u003eNone\u003c/td\u003e\n      \u003ctd\u003e12968.464\u003c/td\u003e\n    \u003c/tr\u003e\n  \u003c/tbody\u003e\n\u003c/table\u003e\n\u003cp\u003e3000 rows × 13 columns\u003c/p\u003e\n\u003c/div\u003e",
                        "text/plain": "     Household_ID       City   Latitude    House_Type Roof_Type  Roof_Pitch  \\\n0      A553C5784D   Brisbane        NaN           NaN     Steel        10.0   \n1      1A12B988A0   Brisbane -27.217398  Timber Frame      Tile        35.0   \n2      D23C0BBB05   Brisbane -27.252449  Double Brick       NaN        20.0   \n3      E67A638AD3   Brisbane -27.042364  Timber Frame     Steel        35.0   \n4      7F266FCAD1   Brisbane -27.432734         Other     Steel        10.0   \n...           ...        ...        ...           ...       ...         ...   \n2995   3C1434F399  Melbourne -37.741982         Other      Tile        30.0   \n2996   BAC8883CA0  Melbourne -38.008012         Other      Tile        10.0   \n2997   9192858124  Melbourne -38.342210  Timber Frame      Tile        22.5   \n2998   C2186B8C95  Melbourne -37.579522  Timber Frame      Tile         5.0   \n2999   396D8F6DD2  Melbourne -38.389214  Timber Frame     Steel        25.0   \n\n      Roof_Azimuth  Floors Financed  Year  Panel_Capacity      Shading  \\\n0             21.0  Double       No  2019            5040         None   \n1             50.0  Single      Yes  2011            5880          NaN   \n2            272.0  Single      Yes  2018            5040          NaN   \n3            247.0     NaN      Yes  2012            5040         None   \n4             39.0  Double      Yes  2012            5880         None   \n...            ...     ...      ...   ...             ...          ...   \n2995         132.0  Single      Yes  2011            7560  Significant   \n2996          57.0  Double      Yes  2020            7140  Significant   \n2997         352.0  Single      Yes  2017            7140         None   \n2998         115.0  Single       No  2014            6300         None   \n2999         320.0  Double      Yes  2021            7560         None   \n\n      Generation  \n0      10163.796  \n1      10876.910  \n2       9400.415  \n3       7747.349  \n4      10987.674  \n...          ...  \n2995    4252.178  \n2996    5684.912  \n2997   12026.470  \n2998    8902.884  \n2999   12968.464  \n\n[3000 rows x 13 columns]"
                    },
                    "execution_count": 3,
                    "metadata": {},
                    "output_type": "execute_result"
                }
            ],
            "source": [
                "SolarSurvey"
            ]
        },
        {
            "cell_type": "code",
            "execution_count": 4,
            "metadata": {},
            "outputs": [
                {
                    "data": {
                        "text/plain": "Index(['Household_ID', 'City', 'Latitude', 'House_Type', 'Roof_Type',\n       'Roof_Pitch', 'Roof_Azimuth', 'Floors', 'Financed', 'Year',\n       'Panel_Capacity', 'Shading', 'Generation'],\n      dtype='object')"
                    },
                    "execution_count": 4,
                    "metadata": {},
                    "output_type": "execute_result"
                }
            ],
            "source": [
                "SolarSurvey.columns"
            ]
        },
        {
            "cell_type": "code",
            "execution_count": 5,
            "metadata": {},
            "outputs": [
                {
                    "data": {
                        "text/plain": "(3000, 12)"
                    },
                    "execution_count": 5,
                    "metadata": {},
                    "output_type": "execute_result"
                }
            ],
            "source": [
                "SolarSurvey_selected = SolarSurvey.drop('Household_ID',axis = 1)\n",
                "SolarSurvey_selected.shape"
            ]
        },
        {
            "cell_type": "code",
            "execution_count": 6,
            "metadata": {},
            "outputs": [
                {
                    "data": {
                        "text/plain": "City                0\nLatitude           70\nHouse_Type        182\nRoof_Type         339\nRoof_Pitch         28\nRoof_Azimuth       84\nFloors            269\nFinanced            0\nYear                0\nPanel_Capacity      0\nShading            96\nGeneration          0\ndtype: int64"
                    },
                    "execution_count": 6,
                    "metadata": {},
                    "output_type": "execute_result"
                }
            ],
            "source": [
                "SolarSurvey_selected.isna().sum()"
            ]
        },
        {
            "cell_type": "code",
            "execution_count": 9,
            "metadata": {},
            "outputs": [],
            "source": [
                "SolarSurvey_selected['Latitude'].fillna(SolarSurvey_selected['Latitude'].mean(),inplace = True)\n",
                "SolarSurvey_selected['Roof_Azimuth'].fillna(SolarSurvey_selected['Roof_Azimuth'].mean(),inplace = True)\n",
                "SolarSurvey_selected['Roof_Pitch'].fillna(SolarSurvey_selected['Roof_Pitch'].mode()[0],inplace = True)\n",
                "\n",
                "SolarSurvey_selected['Roof_Type'].fillna('Other',inplace = True)\n",
                "SolarSurvey_selected['House_Type'].fillna('Other',inplace = True)\n",
                "SolarSurvey_selected['Floors'].fillna('Other',inplace = True)\n",
                "SolarSurvey_selected['Shading'].fillna('Partial',inplace = True)"
            ]
        },
        {
            "cell_type": "code",
            "execution_count": 78,
            "metadata": {},
            "outputs": [
                {
                    "data": {
                        "text/plain": "City                        0\nLatitude                    0\nHouse_Type                  0\nRoof_Type                   0\nRoof_Pitch                  0\nFloors                      0\nFinanced                    0\nYear                        0\nPanel_Capacity              0\nShading                     0\nGeneration                  0\nRoof_Azimuth_transformed    0\ndtype: int64"
                    },
                    "execution_count": 78,
                    "metadata": {},
                    "output_type": "execute_result"
                }
            ],
            "source": [
                "SolarSurvey_selected.isna().sum()"
            ]
        },
        {
            "cell_type": "code",
            "execution_count": 80,
            "metadata": {},
            "outputs": [],
            "source": [
                "SolarSurvey_selected = SolarSurvey_selected.dropna()"
            ]
        },
        {
            "cell_type": "code",
            "execution_count": 11,
            "metadata": {},
            "outputs": [
                {
                    "ename": "KeyError",
                    "evalue": "'Roof_Azimuth'",
                    "output_type": "error",
                    "traceback": [
                        "\u001b[0;31m---------------------------------------------------------------------------\u001b[0m",
                        "\u001b[0;31mKeyError\u001b[0m                                  Traceback (most recent call last)",
                        "File \u001b[0;32m/usr/lib/python3.11/site-packages/pandas/core/indexes/base.py:3802\u001b[0m, in \u001b[0;36mIndex.get_loc\u001b[0;34m(self, key, method, tolerance)\u001b[0m\n\u001b[1;32m   3801\u001b[0m \u001b[38;5;28;01mtry\u001b[39;00m:\n\u001b[0;32m-\u003e 3802\u001b[0m     \u001b[38;5;28;01mreturn\u001b[39;00m \u001b[38;5;28;43mself\u001b[39;49m\u001b[38;5;241;43m.\u001b[39;49m\u001b[43m_engine\u001b[49m\u001b[38;5;241;43m.\u001b[39;49m\u001b[43mget_loc\u001b[49m\u001b[43m(\u001b[49m\u001b[43mcasted_key\u001b[49m\u001b[43m)\u001b[49m\n\u001b[1;32m   3803\u001b[0m \u001b[38;5;28;01mexcept\u001b[39;00m \u001b[38;5;167;01mKeyError\u001b[39;00m \u001b[38;5;28;01mas\u001b[39;00m err:\n",
                        "File \u001b[0;32m/usr/lib/python3.11/site-packages/pandas/_libs/index.pyx:138\u001b[0m, in \u001b[0;36mpandas._libs.index.IndexEngine.get_loc\u001b[0;34m()\u001b[0m\n",
                        "File \u001b[0;32m/usr/lib/python3.11/site-packages/pandas/_libs/index.pyx:165\u001b[0m, in \u001b[0;36mpandas._libs.index.IndexEngine.get_loc\u001b[0;34m()\u001b[0m\n",
                        "File \u001b[0;32mpandas/_libs/hashtable_class_helper.pxi:5745\u001b[0m, in \u001b[0;36mpandas._libs.hashtable.PyObjectHashTable.get_item\u001b[0;34m()\u001b[0m\n",
                        "File \u001b[0;32mpandas/_libs/hashtable_class_helper.pxi:5753\u001b[0m, in \u001b[0;36mpandas._libs.hashtable.PyObjectHashTable.get_item\u001b[0;34m()\u001b[0m\n",
                        "\u001b[0;31mKeyError\u001b[0m: 'Roof_Azimuth'",
                        "\nThe above exception was the direct cause of the following exception:\n",
                        "\u001b[0;31mKeyError\u001b[0m                                  Traceback (most recent call last)",
                        "Cell \u001b[0;32mIn[1], line 3\u001b[0m\n\u001b[1;32m      1\u001b[0m SolarSurvey_selected \u001b[38;5;241m=\u001b[39m SolarSurvey_selected[SolarSurvey_selected[\u001b[38;5;124m'\u001b[39m\u001b[38;5;124mGeneration\u001b[39m\u001b[38;5;124m'\u001b[39m] \u001b[38;5;241m\u003e\u001b[39m\u001b[38;5;241m=\u001b[39m \u001b[38;5;241m0\u001b[39m]\n\u001b[0;32m----\u003e 3\u001b[0m SolarSurvey_selected[\u001b[38;5;124m'\u001b[39m\u001b[38;5;124mRoof_Azimuth_transformed\u001b[39m\u001b[38;5;124m'\u001b[39m] \u001b[38;5;241m=\u001b[39m \u001b[43mSolarSurvey_selected\u001b[49m\u001b[43m[\u001b[49m\u001b[38;5;124;43m'\u001b[39;49m\u001b[38;5;124;43mRoof_Azimuth\u001b[39;49m\u001b[38;5;124;43m'\u001b[39;49m\u001b[43m]\u001b[49m\n\u001b[1;32m      5\u001b[0m \u001b[38;5;28;01mfor\u001b[39;00m alpha \u001b[38;5;129;01min\u001b[39;00m SolarSurvey_selected\u001b[38;5;241m.\u001b[39mindex:\n\u001b[1;32m      6\u001b[0m     \u001b[38;5;28;01mif\u001b[39;00m SolarSurvey_selected\u001b[38;5;241m.\u001b[39mloc[alpha, \u001b[38;5;124m'\u001b[39m\u001b[38;5;124mRoof_Azimuth\u001b[39m\u001b[38;5;124m'\u001b[39m] \u001b[38;5;241m\u003e\u001b[39m \u001b[38;5;241m180\u001b[39m:\n",
                        "File \u001b[0;32m/usr/lib/python3.11/site-packages/pandas/core/frame.py:3807\u001b[0m, in \u001b[0;36mDataFrame.__getitem__\u001b[0;34m(self, key)\u001b[0m\n\u001b[1;32m   3805\u001b[0m \u001b[38;5;28;01mif\u001b[39;00m \u001b[38;5;28mself\u001b[39m\u001b[38;5;241m.\u001b[39mcolumns\u001b[38;5;241m.\u001b[39mnlevels \u001b[38;5;241m\u003e\u001b[39m \u001b[38;5;241m1\u001b[39m:\n\u001b[1;32m   3806\u001b[0m     \u001b[38;5;28;01mreturn\u001b[39;00m \u001b[38;5;28mself\u001b[39m\u001b[38;5;241m.\u001b[39m_getitem_multilevel(key)\n\u001b[0;32m-\u003e 3807\u001b[0m indexer \u001b[38;5;241m=\u001b[39m \u001b[38;5;28;43mself\u001b[39;49m\u001b[38;5;241;43m.\u001b[39;49m\u001b[43mcolumns\u001b[49m\u001b[38;5;241;43m.\u001b[39;49m\u001b[43mget_loc\u001b[49m\u001b[43m(\u001b[49m\u001b[43mkey\u001b[49m\u001b[43m)\u001b[49m\n\u001b[1;32m   3808\u001b[0m \u001b[38;5;28;01mif\u001b[39;00m is_integer(indexer):\n\u001b[1;32m   3809\u001b[0m     indexer \u001b[38;5;241m=\u001b[39m [indexer]\n",
                        "File \u001b[0;32m/usr/lib/python3.11/site-packages/pandas/core/indexes/base.py:3804\u001b[0m, in \u001b[0;36mIndex.get_loc\u001b[0;34m(self, key, method, tolerance)\u001b[0m\n\u001b[1;32m   3802\u001b[0m     \u001b[38;5;28;01mreturn\u001b[39;00m \u001b[38;5;28mself\u001b[39m\u001b[38;5;241m.\u001b[39m_engine\u001b[38;5;241m.\u001b[39mget_loc(casted_key)\n\u001b[1;32m   3803\u001b[0m \u001b[38;5;28;01mexcept\u001b[39;00m \u001b[38;5;167;01mKeyError\u001b[39;00m \u001b[38;5;28;01mas\u001b[39;00m err:\n\u001b[0;32m-\u003e 3804\u001b[0m     \u001b[38;5;28;01mraise\u001b[39;00m \u001b[38;5;167;01mKeyError\u001b[39;00m(key) \u001b[38;5;28;01mfrom\u001b[39;00m \u001b[38;5;21;01merr\u001b[39;00m\n\u001b[1;32m   3805\u001b[0m \u001b[38;5;28;01mexcept\u001b[39;00m \u001b[38;5;167;01mTypeError\u001b[39;00m:\n\u001b[1;32m   3806\u001b[0m     \u001b[38;5;66;03m# If we have a listlike key, _check_indexing_error will raise\u001b[39;00m\n\u001b[1;32m   3807\u001b[0m     \u001b[38;5;66;03m#  InvalidIndexError. Otherwise we fall through and re-raise\u001b[39;00m\n\u001b[1;32m   3808\u001b[0m     \u001b[38;5;66;03m#  the TypeError.\u001b[39;00m\n\u001b[1;32m   3809\u001b[0m     \u001b[38;5;28mself\u001b[39m\u001b[38;5;241m.\u001b[39m_check_indexing_error(key)\n",
                        "\u001b[0;31mKeyError\u001b[0m: 'Roof_Azimuth'"
                    ]
                }
            ],
            "source": [
                "SolarSurvey_selected = SolarSurvey_selected[SolarSurvey_selected['Generation'] \u003e= 0]\n",
                "\n",
                "SolarSurvey_selected['Roof_Azimuth_transformed'] = SolarSurvey_selected['Roof_Azimuth']\n",
                "\n",
                "for alpha in SolarSurvey_selected.index:\n",
                "    if SolarSurvey_selected.loc[alpha, 'Roof_Azimuth'] \u003e 180:\n",
                "        SolarSurvey_selected.loc[alpha, 'Roof_Azimuth_transformed'] = 360 - SolarSurvey_selected.loc[alpha, 'Roof_Azimuth']\n",
                "        \n",
                "SolarSurvey_selected = SolarSurvey_selected.drop('Roof_Azimuth',axis = 1)"
            ]
        },
        {
            "cell_type": "code",
            "execution_count": 82,
            "metadata": {},
            "outputs": [
                {
                    "data": {
                        "text/plain": "(2985, 12)"
                    },
                    "execution_count": 82,
                    "metadata": {},
                    "output_type": "execute_result"
                }
            ],
            "source": [
                "SolarSurvey_selected.shape"
            ]
        },
        {
            "cell_type": "code",
            "execution_count": 83,
            "metadata": {},
            "outputs": [],
            "source": [
                "SolarSurvey_encoded = SolarSurvey.copy()"
            ]
        },
        {
            "cell_type": "code",
            "execution_count": 84,
            "metadata": {},
            "outputs": [
                {
                    "name": "stdout",
                    "output_type": "stream",
                    "text": "None           2215\nPartial         561\nSignificant     128\nName: Shading, dtype: int64\n"
                }
            ],
            "source": [
                "print(SolarSurvey_encoded['Shading'].value_counts())"
            ]
        },
        {
            "cell_type": "code",
            "execution_count": 86,
            "metadata": {},
            "outputs": [],
            "source": [
                "keys = {\n",
                "    'None': 1,\n",
                "    'Partial': 0.75,\n",
                "    'Significant':0.5\n",
                "}\n",
                "SolarSurvey_encoded['Shading'] = SolarSurvey_encoded['Shading'].replace(keys)"
            ]
        },
        {
            "cell_type": "code",
            "execution_count": 87,
            "metadata": {},
            "outputs": [
                {
                    "name": "stdout",
                    "output_type": "stream",
                    "text": "Brisbane     1000\nSydney       1000\nMelbourne    1000\nName: City, dtype: int64\n-------------------\nTimber Frame    1988\nDouble Brick     559\nOther            258\nWeatherboard      13\nName: House_Type, dtype: int64\n-------------------\nTile         1358\nSteel        1010\nOther         259\nColorbond      34\nName: Roof_Type, dtype: int64\n-------------------\nSingle    1180\nDouble    1118\nOther      433\nName: Floors, dtype: int64\n-------------------\nYes    2049\nNo      951\nName: Financed, dtype: int64\n"
                }
            ],
            "source": [
                "print(SolarSurvey_encoded['City'].value_counts())\n",
                "print('-------------------')\n",
                "print(SolarSurvey_encoded['House_Type'].value_counts())\n",
                "print('-------------------')\n",
                "print(SolarSurvey_encoded['Roof_Type'].value_counts())\n",
                "print('-------------------')\n",
                "print(SolarSurvey_encoded['Floors'].value_counts())\n",
                "print('-------------------')\n",
                "print(SolarSurvey_encoded['Financed'].value_counts())\n",
                ""
            ]
        },
        {
            "cell_type": "code",
            "execution_count": 69,
            "metadata": {},
            "outputs": [
                {
                    "name": "stdout",
                    "output_type": "stream",
                    "text": "(3000, 3017)\n"
                },
                {
                    "data": {
                        "text/html": "\u003cdiv\u003e\n\u003cstyle scoped\u003e\n    .dataframe tbody tr th:only-of-type {\n        vertical-align: middle;\n    }\n\n    .dataframe tbody tr th {\n        vertical-align: top;\n    }\n\n    .dataframe thead th {\n        text-align: right;\n    }\n\u003c/style\u003e\n\u003ctable border=\"1\" class=\"dataframe\"\u003e\n  \u003cthead\u003e\n    \u003ctr style=\"text-align: right;\"\u003e\n      \u003cth\u003e\u003c/th\u003e\n      \u003cth\u003eLatitude\u003c/th\u003e\n      \u003cth\u003eRoof_Pitch\u003c/th\u003e\n      \u003cth\u003eRoof_Azimuth\u003c/th\u003e\n      \u003cth\u003eYear\u003c/th\u003e\n      \u003cth\u003ePanel_Capacity\u003c/th\u003e\n      \u003cth\u003eShading\u003c/th\u003e\n      \u003cth\u003eGeneration\u003c/th\u003e\n      \u003cth\u003eHousehold_ID_003AD50119\u003c/th\u003e\n      \u003cth\u003eHousehold_ID_0048ABE935\u003c/th\u003e\n      \u003cth\u003eHousehold_ID_005C6F25D4\u003c/th\u003e\n      \u003cth\u003e...\u003c/th\u003e\n      \u003cth\u003eCity_Sydney\u003c/th\u003e\n      \u003cth\u003eHouse_Type_Other\u003c/th\u003e\n      \u003cth\u003eHouse_Type_Timber Frame\u003c/th\u003e\n      \u003cth\u003eHouse_Type_Weatherboard\u003c/th\u003e\n      \u003cth\u003eRoof_Type_Other\u003c/th\u003e\n      \u003cth\u003eRoof_Type_Steel\u003c/th\u003e\n      \u003cth\u003eRoof_Type_Tile\u003c/th\u003e\n      \u003cth\u003eFloors_Other\u003c/th\u003e\n      \u003cth\u003eFloors_Single\u003c/th\u003e\n      \u003cth\u003eFinanced_Yes\u003c/th\u003e\n    \u003c/tr\u003e\n  \u003c/thead\u003e\n  \u003ctbody\u003e\n    \u003ctr\u003e\n      \u003cth\u003e0\u003c/th\u003e\n      \u003ctd\u003eNaN\u003c/td\u003e\n      \u003ctd\u003e10.0\u003c/td\u003e\n      \u003ctd\u003e21.0\u003c/td\u003e\n      \u003ctd\u003e2019\u003c/td\u003e\n      \u003ctd\u003e5040\u003c/td\u003e\n      \u003ctd\u003e1.0\u003c/td\u003e\n      \u003ctd\u003e10163.796\u003c/td\u003e\n      \u003ctd\u003e0\u003c/td\u003e\n      \u003ctd\u003e0\u003c/td\u003e\n      \u003ctd\u003e0\u003c/td\u003e\n      \u003ctd\u003e...\u003c/td\u003e\n      \u003ctd\u003e0\u003c/td\u003e\n      \u003ctd\u003e0\u003c/td\u003e\n      \u003ctd\u003e0\u003c/td\u003e\n      \u003ctd\u003e0\u003c/td\u003e\n      \u003ctd\u003e0\u003c/td\u003e\n      \u003ctd\u003e1\u003c/td\u003e\n      \u003ctd\u003e0\u003c/td\u003e\n      \u003ctd\u003e0\u003c/td\u003e\n      \u003ctd\u003e0\u003c/td\u003e\n      \u003ctd\u003e0\u003c/td\u003e\n    \u003c/tr\u003e\n    \u003ctr\u003e\n      \u003cth\u003e1\u003c/th\u003e\n      \u003ctd\u003e-27.217398\u003c/td\u003e\n      \u003ctd\u003e35.0\u003c/td\u003e\n      \u003ctd\u003e50.0\u003c/td\u003e\n      \u003ctd\u003e2011\u003c/td\u003e\n      \u003ctd\u003e5880\u003c/td\u003e\n      \u003ctd\u003eNaN\u003c/td\u003e\n      \u003ctd\u003e10876.910\u003c/td\u003e\n      \u003ctd\u003e0\u003c/td\u003e\n      \u003ctd\u003e0\u003c/td\u003e\n      \u003ctd\u003e0\u003c/td\u003e\n      \u003ctd\u003e...\u003c/td\u003e\n      \u003ctd\u003e0\u003c/td\u003e\n      \u003ctd\u003e0\u003c/td\u003e\n      \u003ctd\u003e1\u003c/td\u003e\n      \u003ctd\u003e0\u003c/td\u003e\n      \u003ctd\u003e0\u003c/td\u003e\n      \u003ctd\u003e0\u003c/td\u003e\n      \u003ctd\u003e1\u003c/td\u003e\n      \u003ctd\u003e0\u003c/td\u003e\n      \u003ctd\u003e1\u003c/td\u003e\n      \u003ctd\u003e1\u003c/td\u003e\n    \u003c/tr\u003e\n    \u003ctr\u003e\n      \u003cth\u003e2\u003c/th\u003e\n      \u003ctd\u003e-27.252449\u003c/td\u003e\n      \u003ctd\u003e20.0\u003c/td\u003e\n      \u003ctd\u003e272.0\u003c/td\u003e\n      \u003ctd\u003e2018\u003c/td\u003e\n      \u003ctd\u003e5040\u003c/td\u003e\n      \u003ctd\u003eNaN\u003c/td\u003e\n      \u003ctd\u003e9400.415\u003c/td\u003e\n      \u003ctd\u003e0\u003c/td\u003e\n      \u003ctd\u003e0\u003c/td\u003e\n      \u003ctd\u003e0\u003c/td\u003e\n      \u003ctd\u003e...\u003c/td\u003e\n      \u003ctd\u003e0\u003c/td\u003e\n      \u003ctd\u003e0\u003c/td\u003e\n      \u003ctd\u003e0\u003c/td\u003e\n      \u003ctd\u003e0\u003c/td\u003e\n      \u003ctd\u003e0\u003c/td\u003e\n      \u003ctd\u003e0\u003c/td\u003e\n      \u003ctd\u003e0\u003c/td\u003e\n      \u003ctd\u003e0\u003c/td\u003e\n      \u003ctd\u003e1\u003c/td\u003e\n      \u003ctd\u003e1\u003c/td\u003e\n    \u003c/tr\u003e\n    \u003ctr\u003e\n      \u003cth\u003e3\u003c/th\u003e\n      \u003ctd\u003e-27.042364\u003c/td\u003e\n      \u003ctd\u003e35.0\u003c/td\u003e\n      \u003ctd\u003e247.0\u003c/td\u003e\n      \u003ctd\u003e2012\u003c/td\u003e\n      \u003ctd\u003e5040\u003c/td\u003e\n      \u003ctd\u003e1.0\u003c/td\u003e\n      \u003ctd\u003e7747.349\u003c/td\u003e\n      \u003ctd\u003e0\u003c/td\u003e\n      \u003ctd\u003e0\u003c/td\u003e\n      \u003ctd\u003e0\u003c/td\u003e\n      \u003ctd\u003e...\u003c/td\u003e\n      \u003ctd\u003e0\u003c/td\u003e\n      \u003ctd\u003e0\u003c/td\u003e\n      \u003ctd\u003e1\u003c/td\u003e\n      \u003ctd\u003e0\u003c/td\u003e\n      \u003ctd\u003e0\u003c/td\u003e\n      \u003ctd\u003e1\u003c/td\u003e\n      \u003ctd\u003e0\u003c/td\u003e\n      \u003ctd\u003e0\u003c/td\u003e\n      \u003ctd\u003e0\u003c/td\u003e\n      \u003ctd\u003e1\u003c/td\u003e\n    \u003c/tr\u003e\n    \u003ctr\u003e\n      \u003cth\u003e4\u003c/th\u003e\n      \u003ctd\u003e-27.432734\u003c/td\u003e\n      \u003ctd\u003e10.0\u003c/td\u003e\n      \u003ctd\u003e39.0\u003c/td\u003e\n      \u003ctd\u003e2012\u003c/td\u003e\n      \u003ctd\u003e5880\u003c/td\u003e\n      \u003ctd\u003e1.0\u003c/td\u003e\n      \u003ctd\u003e10987.674\u003c/td\u003e\n      \u003ctd\u003e0\u003c/td\u003e\n      \u003ctd\u003e0\u003c/td\u003e\n      \u003ctd\u003e0\u003c/td\u003e\n      \u003ctd\u003e...\u003c/td\u003e\n      \u003ctd\u003e0\u003c/td\u003e\n      \u003ctd\u003e1\u003c/td\u003e\n      \u003ctd\u003e0\u003c/td\u003e\n      \u003ctd\u003e0\u003c/td\u003e\n      \u003ctd\u003e0\u003c/td\u003e\n      \u003ctd\u003e1\u003c/td\u003e\n      \u003ctd\u003e0\u003c/td\u003e\n      \u003ctd\u003e0\u003c/td\u003e\n      \u003ctd\u003e0\u003c/td\u003e\n      \u003ctd\u003e1\u003c/td\u003e\n    \u003c/tr\u003e\n    \u003ctr\u003e\n      \u003cth\u003e...\u003c/th\u003e\n      \u003ctd\u003e...\u003c/td\u003e\n      \u003ctd\u003e...\u003c/td\u003e\n      \u003ctd\u003e...\u003c/td\u003e\n      \u003ctd\u003e...\u003c/td\u003e\n      \u003ctd\u003e...\u003c/td\u003e\n      \u003ctd\u003e...\u003c/td\u003e\n      \u003ctd\u003e...\u003c/td\u003e\n      \u003ctd\u003e...\u003c/td\u003e\n      \u003ctd\u003e...\u003c/td\u003e\n      \u003ctd\u003e...\u003c/td\u003e\n      \u003ctd\u003e...\u003c/td\u003e\n      \u003ctd\u003e...\u003c/td\u003e\n      \u003ctd\u003e...\u003c/td\u003e\n      \u003ctd\u003e...\u003c/td\u003e\n      \u003ctd\u003e...\u003c/td\u003e\n      \u003ctd\u003e...\u003c/td\u003e\n      \u003ctd\u003e...\u003c/td\u003e\n      \u003ctd\u003e...\u003c/td\u003e\n      \u003ctd\u003e...\u003c/td\u003e\n      \u003ctd\u003e...\u003c/td\u003e\n      \u003ctd\u003e...\u003c/td\u003e\n    \u003c/tr\u003e\n    \u003ctr\u003e\n      \u003cth\u003e2995\u003c/th\u003e\n      \u003ctd\u003e-37.741982\u003c/td\u003e\n      \u003ctd\u003e30.0\u003c/td\u003e\n      \u003ctd\u003e132.0\u003c/td\u003e\n      \u003ctd\u003e2011\u003c/td\u003e\n      \u003ctd\u003e7560\u003c/td\u003e\n      \u003ctd\u003e0.5\u003c/td\u003e\n      \u003ctd\u003e4252.178\u003c/td\u003e\n      \u003ctd\u003e0\u003c/td\u003e\n      \u003ctd\u003e0\u003c/td\u003e\n      \u003ctd\u003e0\u003c/td\u003e\n      \u003ctd\u003e...\u003c/td\u003e\n      \u003ctd\u003e0\u003c/td\u003e\n      \u003ctd\u003e1\u003c/td\u003e\n      \u003ctd\u003e0\u003c/td\u003e\n      \u003ctd\u003e0\u003c/td\u003e\n      \u003ctd\u003e0\u003c/td\u003e\n      \u003ctd\u003e0\u003c/td\u003e\n      \u003ctd\u003e1\u003c/td\u003e\n      \u003ctd\u003e0\u003c/td\u003e\n      \u003ctd\u003e1\u003c/td\u003e\n      \u003ctd\u003e1\u003c/td\u003e\n    \u003c/tr\u003e\n    \u003ctr\u003e\n      \u003cth\u003e2996\u003c/th\u003e\n      \u003ctd\u003e-38.008012\u003c/td\u003e\n      \u003ctd\u003e10.0\u003c/td\u003e\n      \u003ctd\u003e57.0\u003c/td\u003e\n      \u003ctd\u003e2020\u003c/td\u003e\n      \u003ctd\u003e7140\u003c/td\u003e\n      \u003ctd\u003e0.5\u003c/td\u003e\n      \u003ctd\u003e5684.912\u003c/td\u003e\n      \u003ctd\u003e0\u003c/td\u003e\n      \u003ctd\u003e0\u003c/td\u003e\n      \u003ctd\u003e0\u003c/td\u003e\n      \u003ctd\u003e...\u003c/td\u003e\n      \u003ctd\u003e0\u003c/td\u003e\n      \u003ctd\u003e1\u003c/td\u003e\n      \u003ctd\u003e0\u003c/td\u003e\n      \u003ctd\u003e0\u003c/td\u003e\n      \u003ctd\u003e0\u003c/td\u003e\n      \u003ctd\u003e0\u003c/td\u003e\n      \u003ctd\u003e1\u003c/td\u003e\n      \u003ctd\u003e0\u003c/td\u003e\n      \u003ctd\u003e0\u003c/td\u003e\n      \u003ctd\u003e1\u003c/td\u003e\n    \u003c/tr\u003e\n    \u003ctr\u003e\n      \u003cth\u003e2997\u003c/th\u003e\n      \u003ctd\u003e-38.342210\u003c/td\u003e\n      \u003ctd\u003e22.5\u003c/td\u003e\n      \u003ctd\u003e352.0\u003c/td\u003e\n      \u003ctd\u003e2017\u003c/td\u003e\n      \u003ctd\u003e7140\u003c/td\u003e\n      \u003ctd\u003e1.0\u003c/td\u003e\n      \u003ctd\u003e12026.470\u003c/td\u003e\n      \u003ctd\u003e0\u003c/td\u003e\n      \u003ctd\u003e0\u003c/td\u003e\n      \u003ctd\u003e0\u003c/td\u003e\n      \u003ctd\u003e...\u003c/td\u003e\n      \u003ctd\u003e0\u003c/td\u003e\n      \u003ctd\u003e0\u003c/td\u003e\n      \u003ctd\u003e1\u003c/td\u003e\n      \u003ctd\u003e0\u003c/td\u003e\n      \u003ctd\u003e0\u003c/td\u003e\n      \u003ctd\u003e0\u003c/td\u003e\n      \u003ctd\u003e1\u003c/td\u003e\n      \u003ctd\u003e0\u003c/td\u003e\n      \u003ctd\u003e1\u003c/td\u003e\n      \u003ctd\u003e1\u003c/td\u003e\n    \u003c/tr\u003e\n    \u003ctr\u003e\n      \u003cth\u003e2998\u003c/th\u003e\n      \u003ctd\u003e-37.579522\u003c/td\u003e\n      \u003ctd\u003e5.0\u003c/td\u003e\n      \u003ctd\u003e115.0\u003c/td\u003e\n      \u003ctd\u003e2014\u003c/td\u003e\n      \u003ctd\u003e6300\u003c/td\u003e\n      \u003ctd\u003e1.0\u003c/td\u003e\n      \u003ctd\u003e8902.884\u003c/td\u003e\n      \u003ctd\u003e0\u003c/td\u003e\n      \u003ctd\u003e0\u003c/td\u003e\n      \u003ctd\u003e0\u003c/td\u003e\n      \u003ctd\u003e...\u003c/td\u003e\n      \u003ctd\u003e0\u003c/td\u003e\n      \u003ctd\u003e0\u003c/td\u003e\n      \u003ctd\u003e1\u003c/td\u003e\n      \u003ctd\u003e0\u003c/td\u003e\n      \u003ctd\u003e0\u003c/td\u003e\n      \u003ctd\u003e0\u003c/td\u003e\n      \u003ctd\u003e1\u003c/td\u003e\n      \u003ctd\u003e0\u003c/td\u003e\n      \u003ctd\u003e1\u003c/td\u003e\n      \u003ctd\u003e0\u003c/td\u003e\n    \u003c/tr\u003e\n    \u003ctr\u003e\n      \u003cth\u003e2999\u003c/th\u003e\n      \u003ctd\u003e-38.389214\u003c/td\u003e\n      \u003ctd\u003e25.0\u003c/td\u003e\n      \u003ctd\u003e320.0\u003c/td\u003e\n      \u003ctd\u003e2021\u003c/td\u003e\n      \u003ctd\u003e7560\u003c/td\u003e\n      \u003ctd\u003e1.0\u003c/td\u003e\n      \u003ctd\u003e12968.464\u003c/td\u003e\n      \u003ctd\u003e0\u003c/td\u003e\n      \u003ctd\u003e0\u003c/td\u003e\n      \u003ctd\u003e0\u003c/td\u003e\n      \u003ctd\u003e...\u003c/td\u003e\n      \u003ctd\u003e0\u003c/td\u003e\n      \u003ctd\u003e0\u003c/td\u003e\n      \u003ctd\u003e1\u003c/td\u003e\n      \u003ctd\u003e0\u003c/td\u003e\n      \u003ctd\u003e0\u003c/td\u003e\n      \u003ctd\u003e1\u003c/td\u003e\n      \u003ctd\u003e0\u003c/td\u003e\n      \u003ctd\u003e0\u003c/td\u003e\n      \u003ctd\u003e0\u003c/td\u003e\n      \u003ctd\u003e1\u003c/td\u003e\n    \u003c/tr\u003e\n  \u003c/tbody\u003e\n\u003c/table\u003e\n\u003cp\u003e3000 rows × 3017 columns\u003c/p\u003e\n\u003c/div\u003e",
                        "text/plain": "       Latitude  Roof_Pitch  Roof_Azimuth  Year  Panel_Capacity  Shading  \\\n0           NaN        10.0          21.0  2019            5040      1.0   \n1    -27.217398        35.0          50.0  2011            5880      NaN   \n2    -27.252449        20.0         272.0  2018            5040      NaN   \n3    -27.042364        35.0         247.0  2012            5040      1.0   \n4    -27.432734        10.0          39.0  2012            5880      1.0   \n...         ...         ...           ...   ...             ...      ...   \n2995 -37.741982        30.0         132.0  2011            7560      0.5   \n2996 -38.008012        10.0          57.0  2020            7140      0.5   \n2997 -38.342210        22.5         352.0  2017            7140      1.0   \n2998 -37.579522         5.0         115.0  2014            6300      1.0   \n2999 -38.389214        25.0         320.0  2021            7560      1.0   \n\n      Generation  Household_ID_003AD50119  Household_ID_0048ABE935  \\\n0      10163.796                        0                        0   \n1      10876.910                        0                        0   \n2       9400.415                        0                        0   \n3       7747.349                        0                        0   \n4      10987.674                        0                        0   \n...          ...                      ...                      ...   \n2995    4252.178                        0                        0   \n2996    5684.912                        0                        0   \n2997   12026.470                        0                        0   \n2998    8902.884                        0                        0   \n2999   12968.464                        0                        0   \n\n      Household_ID_005C6F25D4  ...  City_Sydney  House_Type_Other  \\\n0                           0  ...            0                 0   \n1                           0  ...            0                 0   \n2                           0  ...            0                 0   \n3                           0  ...            0                 0   \n4                           0  ...            0                 1   \n...                       ...  ...          ...               ...   \n2995                        0  ...            0                 1   \n2996                        0  ...            0                 1   \n2997                        0  ...            0                 0   \n2998                        0  ...            0                 0   \n2999                        0  ...            0                 0   \n\n      House_Type_Timber Frame  House_Type_Weatherboard  Roof_Type_Other  \\\n0                           0                        0                0   \n1                           1                        0                0   \n2                           0                        0                0   \n3                           1                        0                0   \n4                           0                        0                0   \n...                       ...                      ...              ...   \n2995                        0                        0                0   \n2996                        0                        0                0   \n2997                        1                        0                0   \n2998                        1                        0                0   \n2999                        1                        0                0   \n\n      Roof_Type_Steel  Roof_Type_Tile  Floors_Other  Floors_Single  \\\n0                   1               0             0              0   \n1                   0               1             0              1   \n2                   0               0             0              1   \n3                   1               0             0              0   \n4                   1               0             0              0   \n...               ...             ...           ...            ...   \n2995                0               1             0              1   \n2996                0               1             0              0   \n2997                0               1             0              1   \n2998                0               1             0              1   \n2999                1               0             0              0   \n\n      Financed_Yes  \n0                0  \n1                1  \n2                1  \n3                1  \n4                1  \n...            ...  \n2995             1  \n2996             1  \n2997             1  \n2998             0  \n2999             1  \n\n[3000 rows x 3017 columns]"
                    },
                    "execution_count": 69,
                    "metadata": {},
                    "output_type": "execute_result"
                }
            ],
            "source": [
                "SolarSurvey_encoded = pd.get_dummies(SolarSurvey_encoded, drop_first = True)\n",
                "\n",
                "print(SolarSurvey_encoded.shape)\n",
                "SolarSurvey_encoded"
            ]
        },
        {
            "cell_type": "code",
            "execution_count": 70,
            "metadata": {},
            "outputs": [
                {
                    "data": {
                        "text/plain": "0        3\n1       11\n2        4\n3       10\n4       10\n        ..\n2995    11\n2996     2\n2997     5\n2998     8\n2999     1\nName: Year, Length: 3000, dtype: int64"
                    },
                    "execution_count": 70,
                    "metadata": {},
                    "output_type": "execute_result"
                }
            ],
            "source": [
                "SolarSurvey_encoded['Year'] = 2022 -SolarSurvey_encoded['Year']\n",
                "SolarSurvey_encoded['Year']"
            ]
        },
        {
            "cell_type": "code",
            "execution_count": 88,
            "metadata": {},
            "outputs": [
                {
                    "ename": "KeyError",
                    "evalue": "'Roof_Azimuth_transformed'",
                    "output_type": "error",
                    "traceback": [
                        "\u001b[0;31m---------------------------------------------------------------------------\u001b[0m",
                        "\u001b[0;31mKeyError\u001b[0m                                  Traceback (most recent call last)",
                        "File \u001b[0;32m/usr/lib/python3.11/site-packages/pandas/core/indexes/base.py:3802\u001b[0m, in \u001b[0;36mIndex.get_loc\u001b[0;34m(self, key, method, tolerance)\u001b[0m\n\u001b[1;32m   3801\u001b[0m \u001b[38;5;28;01mtry\u001b[39;00m:\n\u001b[0;32m-\u003e 3802\u001b[0m     \u001b[38;5;28;01mreturn\u001b[39;00m \u001b[38;5;28;43mself\u001b[39;49m\u001b[38;5;241;43m.\u001b[39;49m\u001b[43m_engine\u001b[49m\u001b[38;5;241;43m.\u001b[39;49m\u001b[43mget_loc\u001b[49m\u001b[43m(\u001b[49m\u001b[43mcasted_key\u001b[49m\u001b[43m)\u001b[49m\n\u001b[1;32m   3803\u001b[0m \u001b[38;5;28;01mexcept\u001b[39;00m \u001b[38;5;167;01mKeyError\u001b[39;00m \u001b[38;5;28;01mas\u001b[39;00m err:\n",
                        "File \u001b[0;32m/usr/lib/python3.11/site-packages/pandas/_libs/index.pyx:138\u001b[0m, in \u001b[0;36mpandas._libs.index.IndexEngine.get_loc\u001b[0;34m()\u001b[0m\n",
                        "File \u001b[0;32m/usr/lib/python3.11/site-packages/pandas/_libs/index.pyx:165\u001b[0m, in \u001b[0;36mpandas._libs.index.IndexEngine.get_loc\u001b[0;34m()\u001b[0m\n",
                        "File \u001b[0;32mpandas/_libs/hashtable_class_helper.pxi:5745\u001b[0m, in \u001b[0;36mpandas._libs.hashtable.PyObjectHashTable.get_item\u001b[0;34m()\u001b[0m\n",
                        "File \u001b[0;32mpandas/_libs/hashtable_class_helper.pxi:5753\u001b[0m, in \u001b[0;36mpandas._libs.hashtable.PyObjectHashTable.get_item\u001b[0;34m()\u001b[0m\n",
                        "\u001b[0;31mKeyError\u001b[0m: 'Roof_Azimuth_transformed'",
                        "\nThe above exception was the direct cause of the following exception:\n",
                        "\u001b[0;31mKeyError\u001b[0m                                  Traceback (most recent call last)",
                        "Cell \u001b[0;32mIn[1], line 5\u001b[0m\n\u001b[1;32m      3\u001b[0m rescaled_col \u001b[38;5;241m=\u001b[39m [\u001b[38;5;124m'\u001b[39m\u001b[38;5;124mLatitude\u001b[39m\u001b[38;5;124m'\u001b[39m,\u001b[38;5;124m'\u001b[39m\u001b[38;5;124mRoof_Pitch\u001b[39m\u001b[38;5;124m'\u001b[39m,\u001b[38;5;124m'\u001b[39m\u001b[38;5;124mRoof_Azimuth_transformed\u001b[39m\u001b[38;5;124m'\u001b[39m,\u001b[38;5;124m'\u001b[39m\u001b[38;5;124mYear\u001b[39m\u001b[38;5;124m'\u001b[39m,\u001b[38;5;124m'\u001b[39m\u001b[38;5;124mPanel_Capacity\u001b[39m\u001b[38;5;124m'\u001b[39m]\n\u001b[1;32m      4\u001b[0m \u001b[38;5;28;01mfor\u001b[39;00m z \u001b[38;5;129;01min\u001b[39;00m rescaled_col:\n\u001b[0;32m----\u003e 5\u001b[0m     minx \u001b[38;5;241m=\u001b[39m \u001b[38;5;28mmin\u001b[39m(\u001b[43mSolarSurvey_rescaled\u001b[49m\u001b[43m[\u001b[49m\u001b[43mz\u001b[49m\u001b[43m]\u001b[49m)\n\u001b[1;32m      6\u001b[0m     maxx \u001b[38;5;241m=\u001b[39m \u001b[38;5;28mmax\u001b[39m(SolarSurvey_rescaled[z])\n\u001b[1;32m      7\u001b[0m     SolarSurvey_rescaled[z] \u001b[38;5;241m=\u001b[39m (SolarSurvey_rescaled[z]\u001b[38;5;241m-\u001b[39mminx)\u001b[38;5;241m/\u001b[39m(maxx\u001b[38;5;241m-\u001b[39mminx)\n",
                        "File \u001b[0;32m/usr/lib/python3.11/site-packages/pandas/core/frame.py:3807\u001b[0m, in \u001b[0;36mDataFrame.__getitem__\u001b[0;34m(self, key)\u001b[0m\n\u001b[1;32m   3805\u001b[0m \u001b[38;5;28;01mif\u001b[39;00m \u001b[38;5;28mself\u001b[39m\u001b[38;5;241m.\u001b[39mcolumns\u001b[38;5;241m.\u001b[39mnlevels \u001b[38;5;241m\u003e\u001b[39m \u001b[38;5;241m1\u001b[39m:\n\u001b[1;32m   3806\u001b[0m     \u001b[38;5;28;01mreturn\u001b[39;00m \u001b[38;5;28mself\u001b[39m\u001b[38;5;241m.\u001b[39m_getitem_multilevel(key)\n\u001b[0;32m-\u003e 3807\u001b[0m indexer \u001b[38;5;241m=\u001b[39m \u001b[38;5;28;43mself\u001b[39;49m\u001b[38;5;241;43m.\u001b[39;49m\u001b[43mcolumns\u001b[49m\u001b[38;5;241;43m.\u001b[39;49m\u001b[43mget_loc\u001b[49m\u001b[43m(\u001b[49m\u001b[43mkey\u001b[49m\u001b[43m)\u001b[49m\n\u001b[1;32m   3808\u001b[0m \u001b[38;5;28;01mif\u001b[39;00m is_integer(indexer):\n\u001b[1;32m   3809\u001b[0m     indexer \u001b[38;5;241m=\u001b[39m [indexer]\n",
                        "File \u001b[0;32m/usr/lib/python3.11/site-packages/pandas/core/indexes/base.py:3804\u001b[0m, in \u001b[0;36mIndex.get_loc\u001b[0;34m(self, key, method, tolerance)\u001b[0m\n\u001b[1;32m   3802\u001b[0m     \u001b[38;5;28;01mreturn\u001b[39;00m \u001b[38;5;28mself\u001b[39m\u001b[38;5;241m.\u001b[39m_engine\u001b[38;5;241m.\u001b[39mget_loc(casted_key)\n\u001b[1;32m   3803\u001b[0m \u001b[38;5;28;01mexcept\u001b[39;00m \u001b[38;5;167;01mKeyError\u001b[39;00m \u001b[38;5;28;01mas\u001b[39;00m err:\n\u001b[0;32m-\u003e 3804\u001b[0m     \u001b[38;5;28;01mraise\u001b[39;00m \u001b[38;5;167;01mKeyError\u001b[39;00m(key) \u001b[38;5;28;01mfrom\u001b[39;00m \u001b[38;5;21;01merr\u001b[39;00m\n\u001b[1;32m   3805\u001b[0m \u001b[38;5;28;01mexcept\u001b[39;00m \u001b[38;5;167;01mTypeError\u001b[39;00m:\n\u001b[1;32m   3806\u001b[0m     \u001b[38;5;66;03m# If we have a listlike key, _check_indexing_error will raise\u001b[39;00m\n\u001b[1;32m   3807\u001b[0m     \u001b[38;5;66;03m#  InvalidIndexError. Otherwise we fall through and re-raise\u001b[39;00m\n\u001b[1;32m   3808\u001b[0m     \u001b[38;5;66;03m#  the TypeError.\u001b[39;00m\n\u001b[1;32m   3809\u001b[0m     \u001b[38;5;28mself\u001b[39m\u001b[38;5;241m.\u001b[39m_check_indexing_error(key)\n",
                        "\u001b[0;31mKeyError\u001b[0m: 'Roof_Azimuth_transformed'"
                    ]
                }
            ],
            "source": [
                "SolarSurvey_rescaled = SolarSurvey_encoded.copy()\n",
                "\n",
                "rescaled_col = ['Latitude','Roof_Pitch','Roof_Azimuth_transformed','Year','Panel_Capacity']\n",
                "for z in rescaled_col:\n",
                "    minx = min(SolarSurvey_rescaled[z])\n",
                "    maxx = max(SolarSurvey_rescaled[z])\n",
                "    SolarSurvey_rescaled[z] = (SolarSurvey_rescaled[z]-minx)/(maxx-minx)"
            ]
        },
        {
            "cell_type": "code",
            "execution_count": 89,
            "metadata": {},
            "outputs": [],
            "source": [
                ""
            ]
        },
        {
            "cell_type": "code",
            "execution_count": 91,
            "metadata": {},
            "outputs": [
                {
                    "name": "stdout",
                    "output_type": "stream",
                    "text": "(3000, 12)\n(1920, 12)\n(480, 12)\n(600, 12)\n"
                }
            ],
            "source": [
                "from sklearn.model_selection import train_test_split\n",
                "\n",
                "alpha_SolarSurvey = SolarSurvey_rescaled.drop('Generation', axis = 1)\n",
                "beta_SolarSurvey = SolarSurvey_rescaled['Generation']\n",
                "\n",
                "alpha_train_all, alpha_test, beta_train_all, beta_test = train_test_split(alpha_SolarSurvey, beta_SolarSurvey,\n",
                "                                                               test_size = 0.2,\n",
                "                                                               random_state = 0)\n",
                "alpha_train, alpha_vali, beta_train, bate_vali = train_test_split(alpha_train_all, beta_train_all,\n",
                "                                                                test_size = 0.2,\n",
                "                                                               random_state = 0)\n",
                "print(alpha_SolarSurvey.shape)\n",
                "print(alpha_train.shape)\n",
                "print(alpha_vali.shape)\n",
                "print(alpha_test.shape)"
            ]
        },
        {
            "attachments": {},
            "cell_type": "markdown",
            "metadata": {},
            "source": [
                "## Question 1\n",
                "### (a)"
            ]
        },
        {
            "cell_type": "code",
            "execution_count": 55,
            "metadata": {},
            "outputs": [],
            "source": [
                ""
            ]
        },
        {
            "attachments": {},
            "cell_type": "markdown",
            "metadata": {},
            "source": [
                "## Question 2"
            ]
        },
        {
            "cell_type": "code",
            "execution_count": 56,
            "metadata": {},
            "outputs": [],
            "source": [
                ""
            ]
        },
        {
            "cell_type": "code",
            "execution_count": 57,
            "metadata": {},
            "outputs": [],
            "source": [
                ""
            ]
        },
        {
            "attachments": {},
            "cell_type": "markdown",
            "metadata": {},
            "source": [
                "## Question 3\n",
                "### (a)"
            ]
        },
        {
            "cell_type": "code",
            "execution_count": 58,
            "metadata": {},
            "outputs": [],
            "source": [
                "# === End of Assignment ==="
            ]
        }
    ]
}
